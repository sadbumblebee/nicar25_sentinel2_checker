{
 "cells": [
  {
   "cell_type": "markdown",
   "id": "2a9d412a",
   "metadata": {},
   "source": [
    "### Dependencies"
   ]
  },
  {
   "cell_type": "code",
   "execution_count": 19,
   "id": "69b00557",
   "metadata": {},
   "outputs": [],
   "source": [
    "import json\n",
    "import requests\n",
    "import datetime\n",
    "import pandas as pd\n",
    "from IPython.display import HTML"
   ]
  },
  {
   "cell_type": "markdown",
   "id": "f1ca5a51",
   "metadata": {},
   "source": [
    "This is the free query url provided by Copernicus"
   ]
  },
  {
   "cell_type": "code",
   "execution_count": 3,
   "id": "ef08bd23",
   "metadata": {},
   "outputs": [],
   "source": [
    "url = \"https://catalogue.dataspace.copernicus.eu/resto/api/collections/Sentinel2/search.json\""
   ]
  },
  {
   "cell_type": "markdown",
   "id": "473af659",
   "metadata": {},
   "source": [
    "Provide a bounding box of the location of interest.\n",
    "I use [this bounding box tool](\"https://boundingbox.klokantech.com/\")."
   ]
  },
  {
   "cell_type": "code",
   "execution_count": 6,
   "id": "0762834f",
   "metadata": {},
   "outputs": [],
   "source": [
    "# define your bounding box\n",
    "bbox = \"-93.329125,44.89015,-93.193859,45.05125\"\n",
    "# format expected: \"min_lon,min_lat,max_lon,max_lat\""
   ]
  },
  {
   "cell_type": "markdown",
   "id": "b1aeabad",
   "metadata": {},
   "source": [
    "Provide a date range. By default we will look at the last seven days."
   ]
  },
  {
   "cell_type": "code",
   "execution_count": 2,
   "id": "ccd21ab1",
   "metadata": {},
   "outputs": [],
   "source": [
    "end_date = datetime.datetime.utcnow().strftime(\"%Y-%m-%dT%H:%M:%SZ\")\n",
    "start_date = (datetime.datetime.utcnow() - datetime.timedelta(days=7)).strftime(\"%Y-%m-%dT%H:%M:%SZ\")"
   ]
  },
  {
   "cell_type": "markdown",
   "id": "4495209b",
   "metadata": {},
   "source": [
    "Define your parameters... cloud cover may be all you care about for this query so let's just define that as a var."
   ]
  },
  {
   "cell_type": "code",
   "execution_count": 4,
   "id": "8c293725",
   "metadata": {},
   "outputs": [],
   "source": [
    "# format possible: values from 0 to 10 (0 to 100% cloud cover)\n",
    "cloud_cover = \"[0,3]\" # this will be 0 to 30% cover imagery only"
   ]
  },
  {
   "cell_type": "markdown",
   "id": "66c3b8ab",
   "metadata": {},
   "source": [
    "The parameters all together"
   ]
  },
  {
   "cell_type": "code",
   "execution_count": 7,
   "id": "f027270c",
   "metadata": {},
   "outputs": [],
   "source": [
    "params = {\n",
    "    \"productType\": \"S2MSI2A\",\n",
    "    \"cloudCover\": cloud_cover,\n",
    "    \"startDate\": start_date,\n",
    "    \"completionDate\": end_date,\n",
    "    \"maxRecords\": 10,\n",
    "    \"box\": bbox,\n",
    "}"
   ]
  },
  {
   "cell_type": "markdown",
   "id": "f9f2c01c",
   "metadata": {},
   "source": [
    "Make the request itself:"
   ]
  },
  {
   "cell_type": "code",
   "execution_count": 9,
   "id": "64f16b94",
   "metadata": {},
   "outputs": [],
   "source": [
    "response = requests.get(url, params=params)\n",
    "data = response.json()"
   ]
  },
  {
   "cell_type": "markdown",
   "id": "b9df6822",
   "metadata": {},
   "source": [
    "Print to console and save locally:"
   ]
  },
  {
   "cell_type": "code",
   "execution_count": 22,
   "id": "bc85c70b",
   "metadata": {},
   "outputs": [
    {
     "name": "stdout",
     "output_type": "stream",
     "text": [
      "Found 1 Sentinel-2 image(s) in the last week:\n",
      "{\n",
      "    \"collection\": \"SENTINEL-2\",\n",
      "    \"status\": \"ONLINE\",\n",
      "    \"license\": {\n",
      "        \"licenseId\": \"unlicensed\",\n",
      "        \"hasToBeSigned\": \"never\",\n",
      "        \"grantedCountries\": null,\n",
      "        \"grantedOrganizationCountries\": null,\n",
      "        \"grantedFlags\": null,\n",
      "        \"viewService\": \"public\",\n",
      "        \"signatureQuota\": -1,\n",
      "        \"description\": {\n",
      "            \"shortName\": \"No license\"\n",
      "        }\n",
      "    },\n",
      "    \"parentIdentifier\": null,\n",
      "    \"title\": \"S2C_MSIL2A_20250306T170211_N0511_R069_T15TVK_20250306T222015.SAFE\",\n",
      "    \"description\": \"The Copernicus Sentinel-2 mission consists of two polar-orbiting satellites that are positioned in the same sun-synchronous orbit, with a phase difference of 180\\u00b0. It aims to monitor changes in land surface conditions. The satellites have a wide swath width (290 km) and a high revisit time. Sentinel-2 is equipped with an optical instrument payload that samples 13 spectral bands: four bands at 10 m, six bands at 20 m and three bands at 60 m spatial resolution [https://dataspace.copernicus.eu/explore-data/data-collections/sentinel-data/sentinel-2].\",\n",
      "    \"organisationName\": null,\n",
      "    \"startDate\": \"2025-03-06T17:02:11.025000Z\",\n",
      "    \"completionDate\": \"2025-03-06T17:02:11.025000Z\",\n",
      "    \"productType\": \"S2MSI2A\",\n",
      "    \"processingLevel\": \"S2MSI2A\",\n",
      "    \"platform\": \"S2C\",\n",
      "    \"instrument\": \"MSI\",\n",
      "    \"resolution\": 0,\n",
      "    \"sensorMode\": \"INS-NOBS\",\n",
      "    \"orbitNumber\": 2613,\n",
      "    \"quicklook\": null,\n",
      "    \"thumbnail\": \"https://catalogue.dataspace.copernicus.eu/get-object?path=/Sentinel-2/MSI/L2A/2025/03/06/S2C_MSIL2A_20250306T170211_N0511_R069_T15TVK_20250306T222015.SAFE/S2C_MSIL2A_20250306T170211_N0511_R069_T15TVK_20250306T222015-ql.jpg\",\n",
      "    \"updated\": \"2025-03-06T23:23:59.176502Z\",\n",
      "    \"published\": \"2025-03-06T23:23:59.176502Z\",\n",
      "    \"snowCover\": 0,\n",
      "    \"cloudCover\": 0.248171,\n",
      "    \"gmlgeometry\": \"<gml:Polygon srsName=\\\"EPSG:4326\\\"><gml:outerBoundaryIs><gml:LinearRing><gml:coordinates>-93.8920392532635,44.1602897812717 -92.8779255090639,44.1653012748966 -92.8758336028122,45.153769755991 -93.5600878444011,45.1503293845367 -93.5917859082726,45.0572109590825 -93.6208771248312,44.9714210009064 -93.6408934071513,44.9121698629612 -93.6903058934438,44.7654576314172 -93.7329917673985,44.6386429004299 -93.7402270176054,44.6171114132939 -93.7891532115364,44.4703229271621 -93.8379234926916,44.3235615680355 -93.8865829681746,44.1768019340449 -93.8920392532635,44.1602897812717</gml:coordinates></gml:LinearRing></gml:outerBoundaryIs></gml:Polygon>\",\n",
      "    \"centroid\": {\n",
      "        \"type\": \"Point\",\n",
      "        \"coordinates\": [\n",
      "            -93.3072838423836,\n",
      "            44.6254375697146\n",
      "        ]\n",
      "    },\n",
      "    \"productIdentifier\": \"/eodata/Sentinel-2/MSI/L2A/2025/03/06/S2C_MSIL2A_20250306T170211_N0511_R069_T15TVK_20250306T222015.SAFE\",\n",
      "    \"orbitDirection\": \"DESCENDING\",\n",
      "    \"timeliness\": null,\n",
      "    \"relativeOrbitNumber\": 69,\n",
      "    \"processingBaseline\": 5.11,\n",
      "    \"missionTakeId\": \"GS2C_20250306T170211_002613_N05.11\",\n",
      "    \"services\": {\n",
      "        \"download\": {\n",
      "            \"url\": \"https://catalogue.dataspace.copernicus.eu/download/3f5f1cc4-0440-4844-a436-48920025cc82\",\n",
      "            \"mimeType\": \"application/octet-stream\",\n",
      "            \"size\": 872383922\n",
      "        }\n",
      "    },\n",
      "    \"links\": [\n",
      "        {\n",
      "            \"rel\": \"self\",\n",
      "            \"type\": \"application/json\",\n",
      "            \"title\": \"GeoJSON link for 3f5f1cc4-0440-4844-a436-48920025cc82\",\n",
      "            \"href\": \"https://catalogue.dataspace.copernicus.eu/resto/collections/SENTINEL-2/3f5f1cc4-0440-4844-a436-48920025cc82.json\"\n",
      "        }\n",
      "    ]\n",
      "}\n"
     ]
    }
   ],
   "source": [
    "imagery = []\n",
    "if \"features\" in data and data[\"features\"]:\n",
    "    print(f\"Found {len(data['features'])} Sentinel-2 image(s) in the last week:\")\n",
    "    for feature in data[\"features\"]:\n",
    "        date_acquired, satellite, cloud_cover, thumbnail, download_url = [],[],[],[],[]\n",
    "#         props = feature[\"properties\"]\n",
    "        props = feature.get(\"properties\", {})\n",
    "        imagery.append({\n",
    "            \"id\": props.get(\"title\"),\n",
    "            \"date_acquired\": props.get(\"startDate\"),\n",
    "            \"cloud_cover\": props.get(\"cloudCover\"),\n",
    "            \"thumbnail\": props.get(\"thumbnail\", \"NaN\"),\n",
    "            \"download_url\": props.get(\"services\", {}).get(\"download\", {}).get(\"url\", \"NaN\")\n",
    "        })\n",
    "        print(json.dumps(props, indent=4))\n",
    "else:\n",
    "    print(\"No Sentinel-2 images found for the specified bbox and time range.\")\n",
    "    \n",
    "# make a df\n",
    "df = pd.DataFrame(imagery)\n",
    "\n",
    "# show thumbnails as images in the df\n",
    "def render_thumb(url):\n",
    "    return f'<img src=\"{url}\" width=\"100\"/>'\n",
    "\n",
    "# make a preview of thumbnails\n",
    "df[\"thumb_preview\"] = df[\"thumbnail\"].apply(render_thumb)\n",
    "\n",
    "# save to csv locally\n",
    "df.to_csv(\"latest_sentinel_images.csv\", index=False)"
   ]
  },
  {
   "cell_type": "code",
   "execution_count": 26,
   "id": "d157d02e",
   "metadata": {},
   "outputs": [
    {
     "data": {
      "text/html": [
       "<table border=\"1\" class=\"dataframe\">\n",
       "  <thead>\n",
       "    <tr style=\"text-align: right;\">\n",
       "      <th></th>\n",
       "      <th>id</th>\n",
       "      <th>date_acquired</th>\n",
       "      <th>cloud_cover</th>\n",
       "      <th>thumbnail</th>\n",
       "      <th>download_url</th>\n",
       "      <th>thumb_preview</th>\n",
       "    </tr>\n",
       "  </thead>\n",
       "  <tbody>\n",
       "    <tr>\n",
       "      <th>0</th>\n",
       "      <td>S2C_MSIL2A_20250306T170211_N0511_R069_T15TVK_20250306T222015.SAFE</td>\n",
       "      <td>2025-03-06T17:02:11.025000Z</td>\n",
       "      <td>0.248171</td>\n",
       "      <td>https://catalogue.dataspace.copernicus.eu/get-object?path=/Sentinel-2/MSI/L2A/2025/03/06/S2C_MSIL2A_20250306T170211_N0511_R069_T15TVK_20250306T222015.SAFE/S2C_MSIL2A_20250306T170211_N0511_R069_T15TVK_20250306T222015-ql.jpg</td>\n",
       "      <td>https://catalogue.dataspace.copernicus.eu/download/3f5f1cc4-0440-4844-a436-48920025cc82</td>\n",
       "      <td><img src=\"https://catalogue.dataspace.copernicus.eu/get-object?path=/Sentinel-2/MSI/L2A/2025/03/06/S2C_MSIL2A_20250306T170211_N0511_R069_T15TVK_20250306T222015.SAFE/S2C_MSIL2A_20250306T170211_N0511_R069_T15TVK_20250306T222015-ql.jpg\" width=\"100\"/></td>\n",
       "    </tr>\n",
       "  </tbody>\n",
       "</table>"
      ],
      "text/plain": [
       "<IPython.core.display.HTML object>"
      ]
     },
     "execution_count": 26,
     "metadata": {},
     "output_type": "execute_result"
    }
   ],
   "source": [
    "# show preview of images\n",
    "HTML(df.to_html(escape=False))"
   ]
  },
  {
   "cell_type": "code",
   "execution_count": null,
   "id": "2b879d7c",
   "metadata": {},
   "outputs": [],
   "source": []
  },
  {
   "cell_type": "code",
   "execution_count": null,
   "id": "3d924890",
   "metadata": {},
   "outputs": [],
   "source": []
  }
 ],
 "metadata": {
  "kernelspec": {
   "display_name": "Python 3 (ipykernel)",
   "language": "python",
   "name": "python3"
  },
  "language_info": {
   "codemirror_mode": {
    "name": "ipython",
    "version": 3
   },
   "file_extension": ".py",
   "mimetype": "text/x-python",
   "name": "python",
   "nbconvert_exporter": "python",
   "pygments_lexer": "ipython3",
   "version": "3.11.1"
  }
 },
 "nbformat": 4,
 "nbformat_minor": 5
}
